{
 "cells": [
  {
   "attachments": {},
   "cell_type": "markdown",
   "metadata": {},
   "source": [
    "### <mark >Supervised Machine Learning: Regression and Classification</mark>\n",
    "\n",
    "#### **<span style=\"color:hotpink\">Week 2: Regression with Multiple Input Variables</span>**"
   ]
  },
  {
   "attachments": {},
   "cell_type": "markdown",
   "metadata": {},
   "source": [
    "<img src=\"images/mult_features_1.png\" alt=\"\" width=\"400\" height=\"\">"
   ]
  },
  {
   "attachments": {},
   "cell_type": "markdown",
   "metadata": {},
   "source": [
    "In our simplified version of linear regression, we had a single feature `x` representing the size of the house from which we are able to predict `y`, the price of the house using the model `f`<sub>`w,b`</sub>`(x)=wx+b`.\n",
    "\n",
    "\\\n",
    "What if we had more features to improve our prediction?"
   ]
  },
  {
   "attachments": {},
   "cell_type": "markdown",
   "metadata": {},
   "source": [
    "<img src=\"images/mult_features_2.png\" alt=\"\" width=\"400\" height=\"\">"
   ]
  },
  {
   "attachments": {},
   "cell_type": "markdown",
   "metadata": {},
   "source": [
    "We will use `x`<sub>`1`</sub>, `x`<sub>`2`</sub>, `x`<sub>`3`</sub> and `x`<sub>`4`</sub> to denote the four features.\n",
    "\n",
    "This notation represents the lists of features (outlined by the yellow column) and is generally denoted as `x`<sub>`j`</sub>, where `j` is a range of values from 1 to `n`.\n",
    "\n",
    "The total number of features, `n`, is 4 in this example.\n",
    "\n",
    "The notation `x`<sup>`(i)`</sup> is used to denote the `i`<sup>`th`</sup> training example; where `i` indicates a row. Sometimes we call this a vector that includes all the features of the `i`<sup>`th`</sup> training example. This means that `x`<sup>`(2)`</sup> = [1416, 3, 2, 40].  In other words `x`<sup>`(2)`</sup> is a vector of the features for the second training example.\n",
    "\n",
    ">Note: `x`<sup>`(i)`</sup> can be written with or without the arrow on top to indicate that is a vector. You can think of it as an optional signifier that is sometimes used to indicate that it is a vector and not a number.\n",
    "\n",
    "To refer to a specific feature in the `i`<sup>`th`</sup> training example, we use the notaion `x`<sub>`j`</sub><sup>`(i)`</sup>. For example, `x`<sub>`3`</sub><sup>`(2)`</sup> = 2.\n",
    "\n",
    "\\\n",
    "How does our model look now that we have more than one feature?"
   ]
  },
  {
   "attachments": {},
   "cell_type": "markdown",
   "metadata": {},
   "source": [
    "<img src=\"images/mult_features_3.png\" alt=\"\" width=\"400\" height=\"\">"
   ]
  },
  {
   "attachments": {},
   "cell_type": "markdown",
   "metadata": {},
   "source": [
    "How might we interperate these parameters?\n",
    "\n",
    "If the model is trying to predict the price of the house, in thousands of dollars:\n",
    "\n",
    "`b=80`..... The base price of the house starts at $80,000 assuming it has no size, no bedrooms, no floors and no age.\n",
    "\n",
    "`0.1x`<sub>`1`</sub>... For every additional square foot, the price will increase by `0.1` x $1,000 --> $100.\n",
    "\n",
    "`4x`<sub>`2`</sub>....... For every additional bathroom, the price will increase by `4` x $1,000 --> $4,000.\n",
    "\n",
    "`0.1x`<sub>`1`</sub>... For every additional floor, the price will increase by `10` x $1,000 --> $10,000.\n",
    "\n",
    "`0.1x`<sub>`1`</sub>... For every additional year, the price will decrease by `2` x $1,000 --> $2,000.\n",
    "\n",
    "\\\n",
    "If you have `n` features, then the model will look like this...\n",
    "\n",
    "`f`<sub>`w,b`</sub>`(x) = w`<sub>`1`</sub>`x`<sub>`1`</sub> + `w`<sub>`2`</sub>`x`<sub>`2`</sub> + ... + `w`<sub>`n`</sub>`x`<sub>`n`</sub> `+ b`\n",
    "\n",
    "\\\n",
    "Let's simplify this expression..."
   ]
  },
  {
   "attachments": {},
   "cell_type": "markdown",
   "metadata": {},
   "source": [
    "<img src=\"images/mult_features_4.png\" alt=\"\" width=\"400\" height=\"\">"
   ]
  },
  {
   "attachments": {},
   "cell_type": "markdown",
   "metadata": {},
   "source": [
    "Let's define <span style=\"color:aqua\">$\\overrightarrow{w}$</span> as a list of parameters <span style=\"color:aqua\">[w<sub>1</sub>,w<sub>2</sub>,w<sub>3</sub>...w<sub>n</sub>]</span>.\n",
    "\n",
    "The parameters of the model are <span style=\"color:aqua\">$\\overrightarrow{w}$</span> and <span style=\"color:aqua\">b</span>.\n",
    "\n",
    "Finally, <span style=\"color:orange\">$\\overrightarrow{x}$</span> is a row vector that lists all of the features <span style=\"color:orange\">[x<sub>1</sub>,x<sub>2</sub>,x<sub>3</sub>...x<sub>n</sub>]</span>."
   ]
  },
  {
   "attachments": {},
   "cell_type": "markdown",
   "metadata": {},
   "source": [
    "We can add arrows to our overall equation to signify that `w` and `x` are lists of numbers.\n",
    "\n",
    "\\\n",
    "We can simplify our equation using the dot product...\n",
    "\n",
    "<mark style=\"background-color:lightyellow;\"><span style=\"color:aqua\">f<sub>$\\overrightarrow{w}$,b</sub></span>(<span style=\"color:orange\">$\\overrightarrow{x}$</span>) = <span style=\"color:aqua\">$\\overrightarrow{w}$</span> · <span style=\"color:orange\">$\\overrightarrow{x}$</span> + <span style=\"color:aqua\">b</span></mark> = <span style=\"color:aqua\">w<sub>1</sub></span><span style=\"color:orange\">x<sub>1</sub></span> + <span style=\"color:aqua\">w<sub>2</sub></span><span style=\"color:orange\">x<sub>2</sub></span> + ... + <span style=\"color:aqua\">w<sub>n</sub></span><span style=\"color:orange\">x<sub>n</sub></span> + <span style=\"color:aqua\">b</span>\n"
   ]
  },
  {
   "attachments": {},
   "cell_type": "markdown",
   "metadata": {},
   "source": [
    "The name for this type of linear regression model with multiple imput features is called `multiple linear regression`.\n",
    "\n",
    "This is in contrast to univariant regression which has only one feature."
   ]
  },
  {
   "attachments": {},
   "cell_type": "markdown",
   "metadata": {},
   "source": [
    "___\n",
    "#### **<span style=\"color:hotpink\">Vectorization</span>**"
   ]
  },
  {
   "attachments": {},
   "cell_type": "markdown",
   "metadata": {},
   "source": [
    "When implementing a learning algorithm, `vectorization` will `make your code shorter` and `run more efficiently`. \n",
    "\n",
    "Learning how to write vectorized code will allow you to take advantage of modern numerical `linear algebra libraries`, as well as `GPU hardware` (graphical processing unit).\n",
    "\n",
    "This hardware is designed to `speed up computer graphics` in your computer, but can be used when you write vectorized code to help you `execute your code faster`. \n",
    "\n",
    "\\\n",
    "Let's look at an example of what vectorization means..."
   ]
  },
  {
   "attachments": {},
   "cell_type": "markdown",
   "metadata": {},
   "source": [
    "<img src=\"images/vectorization_1.png\" alt=\"\" width=\"400\" height=\"\">"
   ]
  },
  {
   "attachments": {},
   "cell_type": "markdown",
   "metadata": {},
   "source": [
    "In the slide above we have the parameters <span style=\"color:aqua\">$\\overrightarrow{w}$</span> and <span style=\"color:aqua\">b</span>.\n",
    "\n",
    "<span style=\"color:aqua\">$\\overrightarrow{w}$</span> is a vector with 3 numbers <span style=\"color:aqua\">[w<sub>1</sub>,w<sub>2</sub>,w<sub>3</sub>]</span> and <span style=\"color:aqua\">b</span> is a number.\n",
    "\n",
    "Finally, <span style=\"color:orange\">$\\overrightarrow{x}$</span> is also a vector with 3 numbers <span style=\"color:orange\">[x<sub>1</sub>,x<sub>2</sub>,x<sub>3</sub>]</span> and it represents our feature variables.\n",
    "\n",
    "Therefore, <span style=\"color:aqua\">n=3</span> in this case.\n",
    "\n",
    "Notice that in linear algebra, the index or the counting starts from <span style=\"color:red\">1</span>. Meaning that the first value is subscrited <span style=\"color:aqua\">w</span><sub><span style=\"color:red\">1</span></sub> and <span style=\"color:orange\">x</span><sub><span style=\"color:red\">1</span></sub>"
   ]
  },
  {
   "attachments": {},
   "cell_type": "markdown",
   "metadata": {},
   "source": [
    "In python code you can define these variables <span style=\"color:aqua\">$\\overrightarrow{w}$</span>, <span style=\"color:aqua\">b</span> and <span style=\"color:orange\">$\\overrightarrow{x}$</span> using arrays...\n",
    "\n",
    "```python\n",
    "w = np.array([1.0,2.5,-3.3])\n",
    "b = 4\n",
    "x = np.array([10,20,30])\n",
    "```\n",
    "\n",
    "This is done using a numerical linear algebra library in Python called `NumPy`.\n",
    "\n",
    "\\\n",
    "Indexing/ counting arays in python starts at <span style=\"color:hotpink\">0</span>. \n",
    "\n",
    "So, you would access the first value of <span style=\"color:aqua\">$\\overrightarrow{w}$</span> using <span style=\"color:aqua\">w[<span style=\"color:hotpink\">0</span>]</span>, and the second value using <span style=\"color:aqua\">w[1]</span> and the third using <span style=\"color:aqua\">w[2]</span>.\n",
    "\n",
    "Similarly, to access individual features of <span style=\"color:orange\">$\\overrightarrow{x}$</span> you would use <span style=\"color:orange\">x[<span style=\"color:hotpink\">0</span>]</span>, <span style=\"color:orange\">x[1]</span> and <span style=\"color:orange\">x[2]</span>.\n",
    "\n",
    ">Note: Many programing languages including Python start counting from `0` rather than `1`."
   ]
  },
  {
   "attachments": {},
   "cell_type": "markdown",
   "metadata": {},
   "source": [
    "The first example without vectorization is inefficent to code (especially for large values of `n`) and inefficient for your computer to compute 🙁.\n",
    "\n",
    "<img src=\"images/vectorization_1a.png\" alt=\"\" width=\"200\" height=\"\">"
   ]
  },
  {
   "attachments": {},
   "cell_type": "markdown",
   "metadata": {},
   "source": [
    "The second example, still without vectorization. Better implementation than above example. Could be more efficient 😕. \n",
    "\n",
    "<img src=\"images/vectorization_1b.png\" alt=\"\" width=\"200\" height=\"\">\n",
    "\n",
    "In this example, still without vectorization, is done using a `for loop`. \n",
    "\n",
    "In math you can use a summation operator to add all of the products of <span style=\"color:aqua\">w<sub>j</sub></span> and <span style=\"color:orange\">x<sub>j</sub></span> for `j=1-n` (from 1-3 in this case).\n",
    "\n",
    "Outside the summation you add <span style=\"color:aqua\">b</span> at the end.\n",
    "\n",
    ">Note: In python `range(0,n)` goes from `0` to `n-1`. Meaning that it goes up to but does not include `n`. Also, the default starting range is 0, so `range(0,n)` is the same as `range(n)`."
   ]
  },
  {
   "attachments": {},
   "cell_type": "markdown",
   "metadata": {},
   "source": [
    "Using vectorization simplifies code and runs more efficiently 🙂."
   ]
  }
 ],
 "metadata": {
  "kernelspec": {
   "display_name": "Python 3",
   "language": "python",
   "name": "python3"
  },
  "language_info": {
   "name": "python",
   "version": "3.9.7 (v3.9.7:1016ef3790, Aug 30 2021, 16:39:15) \n[Clang 6.0 (clang-600.0.57)]"
  },
  "orig_nbformat": 4,
  "vscode": {
   "interpreter": {
    "hash": "aee8b7b246df8f9039afb4144a1f6fd8d2ca17a180786b69acc140d282b71a49"
   }
  }
 },
 "nbformat": 4,
 "nbformat_minor": 2
}
