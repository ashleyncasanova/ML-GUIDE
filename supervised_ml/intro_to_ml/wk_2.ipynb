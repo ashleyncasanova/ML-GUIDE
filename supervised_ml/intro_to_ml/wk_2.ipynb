{
 "cells": [
  {
   "attachments": {},
   "cell_type": "markdown",
   "metadata": {},
   "source": [
    "### <mark >Supervised Machine Learning: Regression and Classification</mark>\n",
    "\n",
    "#### **<span style=\"color:hotpink\">Week 2: Regression with Multiple Input Variables</span>**"
   ]
  },
  {
   "attachments": {},
   "cell_type": "markdown",
   "metadata": {},
   "source": [
    "<img src=\"images/mult_features_1.png\" alt=\"\" width=\"400\" height=\"\">"
   ]
  },
  {
   "attachments": {},
   "cell_type": "markdown",
   "metadata": {},
   "source": [
    "In our simplified version of linear regression, we had a single feature `x` representing the size of the house from which we are able to predict `y`, the price of the house using the model `f`<sub>`w,b`</sub>`(x)=wx+b`.\n",
    "\n",
    "\\\n",
    "What if we had more features to improve our prediction?"
   ]
  },
  {
   "attachments": {},
   "cell_type": "markdown",
   "metadata": {},
   "source": [
    "<img src=\"images/mult_features_2.png\" alt=\"\" width=\"400\" height=\"\">"
   ]
  },
  {
   "attachments": {},
   "cell_type": "markdown",
   "metadata": {},
   "source": [
    "We will use `x`<sub>`1`</sub>, `x`<sub>`2`</sub>, `x`<sub>`3`</sub> and `x`<sub>`4`</sub> to denote the four features.\n",
    "\n",
    "This notation represents the lists of features (outlined by the yellow column) and is generally denoted as `x`<sub>`j`</sub>, where `j` is a range of values from 1 to `n`.\n",
    "\n",
    "The total number of features, `n`, is 4 in this example.\n",
    "\n",
    "The notation `x`<sup>`(i)`</sup> is used to denote the `i`<sup>`th`</sup> training example; where `i` indicates a row. Sometimes we call this a vector that includes all the features of the `i`<sup>`th`</sup> training example. This means that `x`<sup>`(2)`</sup> = [1416, 3, 2, 40].  In other words `x`<sup>`(2)`</sup> is a vector of the features for the second training example.\n",
    "\n",
    ">Note: `x`<sup>`(i)`</sup> can be written with or without the arrow on top to indicate that is a vector. You can think of it as an optional signifier that is sometimes used to indicate that it is a vector and not a number.\n",
    "\n",
    "To refer to a specific feature in the `i`<sup>`th`</sup> training example, we use the notaion `x`<sub>`j`</sub><sup>`(i)`</sup>. For example, `x`<sub>`3`</sub><sup>`(2)`</sup> = 2.\n",
    "\n",
    "\\\n",
    "How does our model look now that we have more than one feature?"
   ]
  },
  {
   "attachments": {},
   "cell_type": "markdown",
   "metadata": {},
   "source": [
    "<img src=\"images/mult_features_3.png\" alt=\"\" width=\"400\" height=\"\">"
   ]
  },
  {
   "attachments": {},
   "cell_type": "markdown",
   "metadata": {},
   "source": [
    "How might we interperate these parameters?\n",
    "\n",
    "If the model is trying to predict the price of the house, in thousands of dollars"
   ]
  },
  {
   "attachments": {},
   "cell_type": "markdown",
   "metadata": {},
   "source": [
    "<img src=\"images/mult_features_4.png\" alt=\"\" width=\"400\" height=\"\">"
   ]
  },
  {
   "cell_type": "markdown",
   "metadata": {},
   "source": []
  }
 ],
 "metadata": {
  "kernelspec": {
   "display_name": "Python 3",
   "language": "python",
   "name": "python3"
  },
  "language_info": {
   "name": "python",
   "version": "3.9.7 (v3.9.7:1016ef3790, Aug 30 2021, 16:39:15) \n[Clang 6.0 (clang-600.0.57)]"
  },
  "orig_nbformat": 4,
  "vscode": {
   "interpreter": {
    "hash": "aee8b7b246df8f9039afb4144a1f6fd8d2ca17a180786b69acc140d282b71a49"
   }
  }
 },
 "nbformat": 4,
 "nbformat_minor": 2
}
