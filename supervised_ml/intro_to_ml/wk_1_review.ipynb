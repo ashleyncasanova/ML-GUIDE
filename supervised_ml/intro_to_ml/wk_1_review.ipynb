{
 "cells": [
  {
   "attachments": {},
   "cell_type": "markdown",
   "metadata": {},
   "source": [
    "### <mark >Week 1 Review</mark>"
   ]
  },
  {
   "attachments": {},
   "cell_type": "markdown",
   "metadata": {},
   "source": [
    "#### <span style=\"color:hotpink\">Supervised Learning</span>\n",
    "\n",
    "ML algorithms learn x to y (input to output) label mappings.\n",
    "\n",
    "Learning algorithm is given examples to learn from that include the \"right answers\" (correct y-label for a given input x).\n",
    "\n",
    "The learning algorithm learns to take input alon to give a resionally acurate prediction"
   ]
  },
  {
   "attachments": {},
   "cell_type": "markdown",
   "metadata": {},
   "source": [
    "<span style=\"color:pink\">Types of Supervised Learning:</span>\n",
    "\n",
    "* Regression - used to predict a number from *infinantly many possible outputs*\n",
    "\n",
    "* Classification - used to predict a *small number of outputs* or categories"
   ]
  },
  {
   "attachments": {},
   "cell_type": "markdown",
   "metadata": {},
   "source": [
    "<span style=\"color:pink\">Regression Example: Predicting Housing Prices</span>\n",
    "\n",
    "Predicting housing prices given the size of the house...\n",
    "\n",
    "<img src=\"images/regression_2.png\" alt=\"\" width=\"200\" height=\"\">\n",
    "\n",
    "Given training data, we can get an algorithm to systematically chose the most appropriate line or curve to fit our training data."
   ]
  },
  {
   "attachments": {},
   "cell_type": "markdown",
   "metadata": {},
   "source": [
    "<span style=\"color:pink\">Classification Example: Breast Cancer Detection</span>\n",
    "\n",
    "Detecting breast cancer given size of tumor...\n",
    "\n",
    "<img src=\"images/classification_02.jpg\" alt=\"\" height=\"\" width=\"200\">\n",
    "\n",
    "The above slide plots the data with the output on the vertical axis and then plots the same data on a single line using \"x\" and \"o\"'s to denote the output.\n",
    "\n",
    "In this case there are only two possible outputs, malignant (1) or benign (0).\n",
    "\n",
    "\\\n",
    "We can have more than two possible output categories...\n",
    "\n",
    "<img src=\"images/classification_4.jpg\" alt=\"\" height=\"\" width=\"200\">\n",
    "\n",
    "\\\n",
    "We can use multiple inputs to predict an output...\n",
    "\n",
    "<img src=\"images/classification_6.jpg\" alt=\"\" height=\"\" width=\"200\">\n",
    "\n",
    "In this case the ML algorithm needs to decide how to fit a boundary line to this data."
   ]
  },
  {
   "attachments": {},
   "cell_type": "markdown",
   "metadata": {},
   "source": [
    "___\n",
    "#### <span style=\"color:hotpink\">Unsupervised Learning</span>"
   ]
  },
  {
   "cell_type": "markdown",
   "metadata": {},
   "source": []
  }
 ],
 "metadata": {
  "kernelspec": {
   "display_name": "Python 3",
   "language": "python",
   "name": "python3"
  },
  "language_info": {
   "name": "python",
   "version": "3.9.7 (v3.9.7:1016ef3790, Aug 30 2021, 16:39:15) \n[Clang 6.0 (clang-600.0.57)]"
  },
  "orig_nbformat": 4,
  "vscode": {
   "interpreter": {
    "hash": "aee8b7b246df8f9039afb4144a1f6fd8d2ca17a180786b69acc140d282b71a49"
   }
  }
 },
 "nbformat": 4,
 "nbformat_minor": 2
}
