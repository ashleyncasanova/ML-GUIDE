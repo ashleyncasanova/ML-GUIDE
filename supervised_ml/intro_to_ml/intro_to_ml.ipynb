{
 "cells": [
  {
   "cell_type": "markdown",
   "metadata": {},
   "source": [
    "### <mark >Supervised Machine Learning: Regression and Classification</mark>"
   ]
  },
  {
   "attachments": {},
   "cell_type": "markdown",
   "metadata": {},
   "source": [
    "#### **<span style=\"color:hotpink\">Week 1: Introduction to Machine Learning</span>**\n",
    "\n",
    "\\\n",
    "**<span style=\"color:pink\">What is Machine Learning?</span>**\n",
    "\n",
    "\"Field of study that gives computers the ability to learn without being explicitly programmed.\" -- Arthur Samuel (1959)\n",
    "\n",
    "\\\n",
    "**<span style=\"color:pink\">Machine Learning Algorithms</span>**\n",
    "\n",
    "* Supervised Learning -- used most in real-world applications (coverd in course 1 & 2)\n",
    "* Unsupervised Learning\n",
    "* Recommender Systems\n",
    "* Reinforcement Learning\n",
    "\n",
    ">Note: Unsupervised learning, recommender systems and reinforcement learning will be covered in course 3."
   ]
  },
  {
   "attachments": {},
   "cell_type": "markdown",
   "metadata": {},
   "source": [
    "___\n",
    "**<span style=\"color:hotpink\">Supervised Learning</span>**\n",
    "\n",
    "Machine learning algorithms that learn `x` to `y` or `input` to `output` label mappings.\n",
    "\n",
    "The key characteristic of supervised learning is that you give your learning algorithm examples to learn from that include the \"right answers\" (correct `y-label` for a given input `x`).\n",
    "\n",
    "The learning algorithm learns to take just the input alone and gives a reasonably accurate prediction.\n",
    "\n",
    "\\\n",
    "<span style=\"color:pink\">Some applications of supervised machine learning include...</span>\n",
    "\n",
    "|Input (X)|Output (Y)|Application|\n",
    "|:---:|:---:|:---:|\n",
    "|email|spam? (0/1)|spam filtering|\n",
    "|audio|text transcripts|speech recognition|\n",
    "|English|Spanish|machine translation|\n",
    "|ad, user info|click? (0/1)|online advertising|\n",
    "|image, radar info|position of other cars|self-driving car|\n",
    "|image of phone|defect? (0/1)|visual inspection|"
   ]
  },
  {
   "cell_type": "markdown",
   "metadata": {},
   "source": [
    ">Note: In each of the above applications, you would first train your models with examples of inputs (`x`) and the right answers (`y-label's`). After the model has learned from these `x` and `y` pairs, it can take a brand new input `x` and try to produce the appropriate corresponding output `y`."
   ]
  },
  {
   "attachments": {},
   "cell_type": "markdown",
   "metadata": {},
   "source": [
    "___\n",
    "### <span style=\"color:hotpink\">There are two main types of supervised learning:</span>\n",
    "* **Regression** - *used to predict a number* from infinantly many possible outputs\n",
    "* **Classification** - "
   ]
  },
  {
   "attachments": {},
   "cell_type": "markdown",
   "metadata": {},
   "source": [
    "___\n",
    "#### <span style=\"color:hotpink\">Regression Example: Predicting Housing Prices</span>\n",
    "\n",
    "<span style=\"color:pink\">Say you want to predict housing prices based on the size of the house.</span>\n",
    "\n",
    "You have collected and plotted your data...\n",
    "\n",
    "<img src=\"images/regression_1.png\" alt=\"\" height=\"\" width=\"400\">"
   ]
  },
  {
   "attachments": {},
   "cell_type": "markdown",
   "metadata": {},
   "source": [
    "<span style=\"color:pink\">Fitting the data with a line, curve or other function, we can extrapolate a price for a house of a given size.</span>\n",
    "\n",
    "How much can we sell a 750 thousand square foot house for, using either a line or curve to extrapolate?\n",
    "\n",
    "<img src=\"images/regression_2.png\" alt=\"\" width=\"400\" height=\"\">"
   ]
  },
  {
   "attachments": {},
   "cell_type": "markdown",
   "metadata": {},
   "source": [
    ">Note: Getting an algorithm to systematically choose the most appropriate line or curve or other thing to fit to this data is an example of regression."
   ]
  },
  {
   "attachments": {},
   "cell_type": "markdown",
   "metadata": {},
   "source": [
    "___\n",
    "#### <span style=\"color:hotpink\">Classification Example: Breast cancer detection</span>\n",
    "\n",
    "<span style=\"color:pink\">Say you are building a system so that doctors can have a diagnostic tool to detect breast cancer.</span>\n",
    "\n",
    "This is important because early detection can save lives .\n",
    "\n",
    "Using a patients records machine learning tries to figure out if a tumor is malignant (1) or benign (0)\n",
    "\n",
    "\\\n",
    "<span style=\"color:pink\">Let's say your data set has tumors of various sizes and these tumors are labled as benign (0) or malignant (1).</span>\n",
    "\n",
    "We can plot the data such that the horizontal axis represents the size of the tumor and the vertical axis takes on only two values 0 or 1, depending on wether the tumor is benign or malignant.\n",
    "\n",
    "<img src=\"images/classification_1.png\" alt=\"\" width=\"400\" height=\"\">"
   ]
  },
  {
   "attachments": {},
   "cell_type": "markdown",
   "metadata": {},
   "source": [
    "<span style=\"color:pink\">One way that this example differs from regression is that we are only trying to predict a small number of possible outputs or catigories.</span>\n",
    "\n",
    "In this case there are two possible outputs 0 or 1, benign or malignant. \n",
    "\n",
    "This is different from regression which tries to predict any number, out of an infinitely number of possible numbers. \n",
    "\n",
    "And so the fact that there are only two possible outputs is what makes this classification. Because there are only two possible outputs or two possible categories in this example."
   ]
  },
  {
   "cell_type": "markdown",
   "metadata": {},
   "source": []
  }
 ],
 "metadata": {
  "kernelspec": {
   "display_name": "Python 3.9.7 64-bit",
   "language": "python",
   "name": "python3"
  },
  "language_info": {
   "name": "python",
   "version": "3.9.7"
  },
  "orig_nbformat": 4,
  "vscode": {
   "interpreter": {
    "hash": "aee8b7b246df8f9039afb4144a1f6fd8d2ca17a180786b69acc140d282b71a49"
   }
  }
 },
 "nbformat": 4,
 "nbformat_minor": 2
}
