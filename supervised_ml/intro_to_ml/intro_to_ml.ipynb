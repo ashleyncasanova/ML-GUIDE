{
 "cells": [
  {
   "cell_type": "markdown",
   "metadata": {},
   "source": [
    "### <mark >Supervised Machine Learning: Regression and Classification</mark>"
   ]
  },
  {
   "attachments": {},
   "cell_type": "markdown",
   "metadata": {},
   "source": [
    "#### **<span style=\"color:hotpink\">Week 1: Introduction to Machine Learning</span>**\n",
    "\n",
    "\\\n",
    "**<span style=\"color:pink\">What is Machine Learning?</span>**\n",
    "\n",
    "\"Field of study that gives computers the ability to learn without being explicitly programmed.\" -- Arthur Samuel (1959)\n",
    "\n",
    "\\\n",
    "**<span style=\"color:pink\">Machine Learning Algorithms</span>**\n",
    "\n",
    "* Supervised Learning -- used most in real-world applications (coverd in course 1 & 2)\n",
    "* Unsupervised Learning\n",
    "* Recommender Systems\n",
    "* Reinforcement Learning\n",
    "\n",
    ">Note: Unsupervised learning, recommender systems and reinforcement learning will be covered in more detail in course 3."
   ]
  },
  {
   "attachments": {},
   "cell_type": "markdown",
   "metadata": {},
   "source": [
    "___\n",
    "#### **<span style=\"color:hotpink\">Supervised Learning</span>**\n",
    "\n",
    "Machine learning algorithms that learn `x` to `y` or `input` to `output` label mappings.\n",
    "\n",
    "The key characteristic of supervised learning is that you give your learning algorithm examples to learn from that include the \"right answers\" (correct `y-label` for a given input `x`).\n",
    "\n",
    "The learning algorithm learns to take just the input alone and gives a reasonably accurate prediction.\n",
    "\n",
    "\\\n",
    "<span style=\"color:pink\">Some applications of supervised machine learning include...</span>\n",
    "\n",
    "|Input (X)|Output (Y)|Application|\n",
    "|:---:|:---:|:---:|\n",
    "|email|spam? (0/1)|<span style=\"color:pink\">spam filtering</span>|\n",
    "|audio|text transcripts|<span style=\"color:pink\">speech recognition</span>|\n",
    "|English|Spanish|<span style=\"color:pink\">machine translation</span>|\n",
    "|ad, user info|click? (0/1)|<span style=\"color:pink\">online advertising</span>|\n",
    "|image, radar info|position of other cars|<span style=\"color:pink\">self-driving car</span>|\n",
    "|image of phone|defect? (0/1)|<span style=\"color:pink\">visual inspection</span>|"
   ]
  },
  {
   "cell_type": "markdown",
   "metadata": {},
   "source": [
    ">Note: In each of the above applications, you would first train your models with examples of inputs (`x`) and the right answers (`y-label's`). After the model has learned from these `x` and `y` pairs, it can take a brand new input `x` and try to produce the appropriate corresponding output `y`."
   ]
  },
  {
   "attachments": {},
   "cell_type": "markdown",
   "metadata": {},
   "source": [
    "___\n",
    "#### **<span style=\"color:hotpink\">There are two main types of supervised learning:</span>**\n",
    "* **Regression** - *used to predict a number* from infinantly many possible outputs\n",
    "* **Classification** - used to predict a small number of outputs or categories"
   ]
  },
  {
   "attachments": {},
   "cell_type": "markdown",
   "metadata": {},
   "source": [
    "___\n",
    "#### **<span style=\"color:hotpink\">Regression Example: Predicting Housing Prices</span>**\n",
    "\n",
    "<span style=\"color:pink\">Say you want to predict housing prices based on the size of the house.</span>\n",
    "\n",
    "You have collected and plotted your data...\n",
    "\n",
    "<img src=\"images/regression_1.png\" alt=\"\" height=\"\" width=\"400\">"
   ]
  },
  {
   "attachments": {},
   "cell_type": "markdown",
   "metadata": {},
   "source": [
    "<span style=\"color:pink\">Fitting the data with a line, curve or other function, we can interpolate a price for a house of a given size.</span>\n",
    "\n",
    "How much can we sell a 750 thousand square foot house for, using either a line or curve to interpolate?\n",
    "\n",
    "<img src=\"images/regression_2.png\" alt=\"\" width=\"400\" height=\"\">\n",
    "\n",
    "From the diagram above, a straight line will predict a selling price near $150,000, where a curved line will predict a price closer to $200,000."
   ]
  },
  {
   "attachments": {},
   "cell_type": "markdown",
   "metadata": {},
   "source": [
    ">Note: Getting an algorithm to systematically choose the most appropriate line or curve or other thing to fit to this data is an example of regression."
   ]
  },
  {
   "attachments": {},
   "cell_type": "markdown",
   "metadata": {},
   "source": [
    "___\n",
    "#### **<span style=\"color:hotpink\">Classification Example: Breast cancer detection</span>**\n",
    "\n",
    "<span style=\"color:pink\">Say you are building a system so that doctors can have a diagnostic tool to detect breast cancer.</span>\n",
    "\n",
    "This is important because early detection can save lives .\n",
    "\n",
    "Using a patients records machine learning tries to figure out if a tumor is malignant or benign.\n",
    "\n",
    "\\\n",
    "<span style=\"color:pink\">Let's say your data set has tumors of various sizes and these tumors are labled as benign (0) or malignant (1).</span>\n",
    "\n",
    "We can plot the data such that the horizontal axis represents the size of the tumor and the vertical axis takes on only two values 0 or 1, depending on wether the tumor is benign or malignant.\n",
    "\n",
    "<img src=\"images/classification_1.png\" alt=\"\" width=\"400\" height=\"\">"
   ]
  },
  {
   "attachments": {},
   "cell_type": "markdown",
   "metadata": {},
   "source": [
    "<span style=\"color:pink\">One way that this example differs from regression is that we are only trying to predict a small number of possible outputs or categories.</span>\n",
    "\n",
    "In this case there are two possible outputs 0 or 1, benign or malignant. \n",
    "\n",
    "This is different from regression which tries to predict any number, out of an infinitely number of possible numbers (our regression example can predict an infinite number of prices for example: $0.25, $4.73, etc). \n",
    "\n",
    "\\\n",
    "<span style=\"color:pink\">You can also plot this data set on a line, using two different symbols to denote the category (`o` for benign and `x` for malignant).</span>\n",
    "\n",
    "<img src=\"images/classification_02.jpg\" alt=\"\" height=\"\" width=\"400\">\n",
    "\n",
    "\\\n",
    "If a new patient walks in for a diagnosis and they have a lump of a given size, will your system classify this as benign or malignant?"
   ]
  },
  {
   "attachments": {},
   "cell_type": "markdown",
   "metadata": {},
   "source": [
    "<span style=\"color:pink\">In classification problems, we can have more than two possible output categories.</span>\n",
    "\n",
    "Maybe your learning algorithm can output multiple types of cancer diagnoses if it turns out to be malignant.\n",
    "\n",
    "\\\n",
    "Let's call the two types of cancer `type 1` and `type 2`.\n",
    "\n",
    "Now our learning algorithm will have three possible output categories it could predict...\n",
    "\n",
    "<img src=\"images/classification_4.jpg\" alt=\"\" height=\"\" width=\"400\">\n",
    "\n",
    "Note: In classification, the terms output classes and categories are used interchangably."
   ]
  },
  {
   "attachments": {},
   "cell_type": "markdown",
   "metadata": {},
   "source": [
    "<span style=\"color:pink\">Classification algorithms predict categories, which can be non-numerical.</span>\n",
    "\n",
    "For example, we can predict if a picture is that of a cat or a dog, or if a tumor is benign or malignant. \n",
    "\n",
    "\\\n",
    "<span style=\"color:pink\">Categories can also be numbers.</span>\n",
    "\n",
    "For example, our example predicts 0, 1, 2 but not all possible numbers inbetween, such as 0.5, or 1.7.\n",
    "\n",
    "\\\n",
    "<span style=\"color:pink\">We can use multiple inputs to predict an output.</span>\n",
    "\n",
    "For example, let's say we know both the tumor size and the patients age in years ... our new dataset now has two inputs.\n",
    "\n",
    "We can plot benign tumors as `o`'s and malignant tumors as `x`'s...\n",
    "\n",
    "\\\n",
    "<span style=\"color:pink\">Given a patients tumor size and age, how can we predict whether the tumor is benign or malignant?</span>\n",
    "\n",
    "<img src=\"images/classification_5.jpg\" alt=\"\" height=\"\" width=\"400\">\n",
    "\n",
    "\\\n",
    "<span style=\"color:pink\">A machine learning algorithm could find some boundary that separates out the malignant tumors from the benign ones...</span>\n",
    "\n",
    "<img src=\"images/classification_6.jpg\" alt=\"\" height=\"\" width=\"400\">\n",
    "\n",
    "\\\n",
    "So the machine learning algorith needs to decide how to fit a boundary line to this data.\n",
    "\n",
    "This can help the doctor determine the likelyhood that a tumor will be benign or malignant.\n",
    "\n",
    ">Note: In actual practice, many additional inputs would be used (thickness of tumor clump, uniformity of the cell shape, etc.)"
   ]
  },
  {
   "attachments": {},
   "cell_type": "markdown",
   "metadata": {},
   "source": [
    "___\n",
    "#### **<span style=\"color:hotpink\">Summary: Supervised Learning</span>**\n",
    "\n",
    "<img src=\"images/supervised_learning_1.jpg\" alt=\"\" height=\"\" width=\"400\">\n",
    "\n",
    "___"
   ]
  },
  {
   "attachments": {},
   "cell_type": "markdown",
   "metadata": {},
   "source": [
    "#### **<span style=\"color:hotpink\">Unsupervised Learning</span>**\n",
    "\n",
    "Unsupervised learning is the most widely used form of machine learning after supervised learning.\n",
    "\n",
    "\\\n",
    "**<span style=\"color:pink\">Supervised Learning VS Unsupervized Learning</span>**\n",
    "\n",
    "<img src=\"images/unsupervised_learning_0.jpg\" alt=\"\" width=\"400\" height=\"\">\n",
    "\n",
    "In our supervised learning examples, each data point was associated with an output label y, such as benign or malignant.\n",
    "\n",
    "In unsupervised learning we are given data that isn't associated with any output labels.\n",
    "\n",
    "For example, you are given data on a patients tumor size and age but not if the tumor is benign or malignant.\n",
    "\n",
    "\\\n",
    "<span style=\"color:pink\">How can we determine whether a tumor is benign or malignant using unsupervised learning?</span>\n",
    "\n",
    "Since we are not given any labels from our dataset, our job is to find some structure or pattern in the data; or just something interesting.\n",
    "\n",
    "We call this unsupervised learning because we are not trying to supervise the algorithm to give the \"right answer\" for every input. Instead we ask the algorithm to figure out, all by itelf, what's interesting or what patterns or structures there might be in this data."
   ]
  },
  {
   "attachments": {},
   "cell_type": "markdown",
   "metadata": {},
   "source": [
    "**<span style=\"color:pink\">Clustering</span>**\n",
    "\n",
    "<img src=\"images/unsupervised_learning_1.jpg\" alt=\"\" width=\"400\" height=\"\">\n",
    "\n",
    "In this particular example, an unsupervised learning algorithm may decide that the data can be assigned into two different groups or clusters.\n",
    "\n",
    "This is known as a clustering algorithm because it places the unlabeled data into different clusters.\n",
    "\n",
    "Clustering is used in many applications..."
   ]
  },
  {
   "attachments": {},
   "cell_type": "markdown",
   "metadata": {},
   "source": [
    "<span style=\"color:pink\">Clustering: Google News</span>\n",
    "\n",
    "<img src=\"images/clustering_1.png\" alt=\"\" width=\"400\" height=\"\">\n",
    "\n",
    "Every day google news looks at hundreds of thousands of news articles on the internet and groups related stories together.\n",
    "\n",
    "This is done by grouping articles containing similar words into clusters.\n",
    "\n",
    "There is so much content, it is not feasible to have individuals sorting through news articles every day.\n",
    "\n",
    "The algorithm needs to figure out on it's own, without supervision, what are the clusters of news articles today."
   ]
  },
  {
   "attachments": {},
   "cell_type": "markdown",
   "metadata": {},
   "source": [
    "<span style=\"color:pink\">Clustering: DNA Microarray</span>\n",
    "\n",
    "<img src=\"images/clustering_2.png\" alt=\"\" width=\"400\" height=\"\">\n",
    "\n",
    "DNA microarray's cluster genetic data.\n",
    "\n",
    "Each column represents the DNA activity of one person (represented by stick figures).\n",
    "\n",
    "Each row represents a particular gene (eye color, height, taste, etc).\n",
    "\n",
    "\\\n",
    "DNA microarrays are used to measure how much certain genes are expressed for each individual person.\n",
    "\n",
    "The colors show the degree to which individuals do or do not have a specific gene active.\n",
    "\n",
    "\\\n",
    "We can use a clustering algorithm to group individuals into categories / types of people (type 1, type 2, etc).\n",
    "\n",
    "This is unsupervised learning because we are not telling the algorithm in advance that there is a type 1 person with certain characteristics, or a type 2 person with certain characteristics, etc. Instead we are saying, here is a bunch of data, I don't know what the different types of people are but can you automatically find structure in the data and find out who are the major types of individuals."
   ]
  },
  {
   "attachments": {},
   "cell_type": "markdown",
   "metadata": {},
   "source": [
    "<span style=\"color:pink\">Clustering: Grouping Customers</span>\n",
    "\n",
    "Many companies have huge databases of customer information.\n",
    "\n",
    "Given this data, can you automatically group your customers into different market segments so that you can more efficiently serve your customers?\n",
    "\n",
    "\\\n",
    "The `DeepLearning.AI` team did some research to better understand their community.\n",
    "\n",
    "Why do individuals take certain classes? \n",
    "\n",
    "Do they subscribe to the newsletter or attend events?\n",
    "\n",
    "\\\n",
    "Let's visualize the `DeepLearning.AI` community as this collection of people.\n",
    "\n",
    "<img src=\"images/clustering_4.png\" alt=\"\" width=\"400\" height=\"\">\n",
    "\n",
    "Who are the major learners in the `DeepLearning.AI` community?\n",
    "\n",
    "Running clustering (or market segmentation) found a few distinct groups of individuals:\n",
    "\n",
    "* Group 1: primary motivation was seeking knowladge to grow their skill\n",
    "* Group 2: primary motivation was looking for a way to build their career\n",
    "* Group 3: primary motivation was to stay updated on how AI impacts their field of work"
   ]
  },
  {
   "attachments": {},
   "cell_type": "markdown",
   "metadata": {},
   "source": [
    "#### <span style=\"color:hotpink\">Summary</span>\n",
    "\n",
    "<image src=\"images/unsupervised_learning_2.png\" alt=\"\" width=\"400\" height=\"\">\n",
    "\n",
    "\n",
    ">Anomaly detection is especially important for fraud detection in the financial system where unusual transactions could be a sign of fraud.\n",
    "\n",
    ">Dimentionality reduction is used to compress a data set while minimizing the loss of information."
   ]
  },
  {
   "attachments": {},
   "cell_type": "markdown",
   "metadata": {},
   "source": [
    "___\n",
    "___\n",
    "#### **<span style=\"color:hotpink\">Linear Regression Model</span>**\n",
    "\n",
    "Most widely used learning algorithm.\n",
    "\n",
    "Basically fitting a straight line to your data.\n",
    "\n",
    "\\\n",
    "<span style=\"color:pink\">Example: You want to predict the price of a house based on size...</span>\n",
    "\n",
    ">Note: We will use a data set on house in Portland.\n",
    "\n",
    "<img src=\"images/lr_1.png\" alt=\"\" width=\"400\" height=\"\">\n",
    "\n",
    "If we want to determine the selling price from this data we can build a linear regression model.\n",
    "\n",
    "In other words we can fit a straight line (best fit line) to the data from which we can interpolate.\n",
    "\n",
    "<img src=\"images/lr_2.png\" alt=\"\" width=\"400\" height=\"\">\n",
    "\n",
    "We call this supervised learning because you are first training a model by giving a data that has right answers.\n",
    "\n",
    "This linear regression model is a particular type of supervised learning model. It's called regression model because it predicts numbers as the output like prices in dollars. \n",
    "\n",
    "Any supervised learning model that predicts a number such as 220,000 or 1.5 or negative 33.2 is addressing what's called a regression problem. "
   ]
  },
  {
   "attachments": {},
   "cell_type": "markdown",
   "metadata": {},
   "source": [
    "___\n",
    "#### **<span style=\"color:hotpink\">Terminology</span>**\n",
    "\n",
    "**<span style=\"color:pink\">Training Set</span>** - Data used to train the model\n",
    "\n",
    "**<span style=\"color:pink\">Input Variable</span>** - Also called the feature variable, is denoted by the letter `x` \n",
    "\n",
    "**<span style=\"color:pink\">Output Variable</span>** - Also called the target variable, is denoted by the letter `y` \n",
    "\n",
    "**<span style=\"color:pink\">Training Example</span>** - To indicate a sinle training example, we use the notation `(x,y)`\n",
    "\n",
    "**<span style=\"color:pink\">Number of Training Examples</span>** - Represented by the letter `m`\n",
    "\n",
    "**<span style=\"color:pink\">i<sup>th</sup> Training Example</span>** - Represented by the notation <span style=\"color:orange\">(x<sup>(i)</sup>,y<sup>(i)</sup>)</span>\n",
    "\n",
    "\\\n",
    "Example Training Set:\n",
    "\n",
    "<img src=\"images/training_set_1.png\" alt=\"\" width=\"200\" height=\"\">\n",
    "\n",
    "In our first example, the data used to train our model is our `training set`. The `input variable` is the house size in square feet, denoted by `x`. The `output variable` is the price of the corresponding house, in dollars, which is represented by the letter `y`.\n",
    "\n",
    "Each row in the `training set` represents a different training example.\n",
    "\n",
    "In our first `training example` `(x,y)` = (2104,400) and the `total number of training examples` is 47.\n",
    "\n",
    "To refer to a specific training example we use the notation <span style=\"color:orange\">(x<sup>(i)</sup>,y<sup>(i)</sup>)</span>, where `i` refers to a specific row. Therefore, <span style=\"color:orange\">(x<sup>(1)</sup>,y<sup>(1)</sup>)</span> = (2104,400).\n",
    "\n",
    ">Note: <span style=\"color:orange\">x<sup>(2)</sup></span> is not an exponent; it refers to the 2nd training example."
   ]
  },
  {
   "attachments": {},
   "cell_type": "markdown",
   "metadata": {},
   "source": [
    "___\n",
    "#### **<span style=\"color:hotpink\">How Does Supervised Learning Work?</span>**\n",
    "\n",
    "<img src=\"images/supervised_learning_2.jpg\" alt=\"\" width=\"400\" height=\"\">"
   ]
  },
  {
   "attachments": {},
   "cell_type": "markdown",
   "metadata": {},
   "source": [
    "In supervised learning the `training set` includes <span style=\"color:orange\">input features</span> (size of the house) as well as the <span style=\"color:red\">output targets</span> (price of the house).\n",
    "\n",
    "To train the model we pass our `training set` to our `learning algorithm`.\n",
    "\n",
    "The `learning algorithm` will produce a function *<span style=\"color:aqua\">f</span>*.\n",
    "\n",
    ">Note: The function *<span style=\"color:aqua\">f</span>* used to be called the hypothesis.\n",
    "\n",
    "The job of this function *<span style=\"color:aqua\">f</span>* is to take a new input <span style=\"color:orange\">x</span> and output an estimate or prediction, <span style=\"color:fuchsia\">ŷ</span>.\n",
    "\n",
    "\\\n",
    "<span style=\"color:aqua\">f</span> is the model.\n",
    "\n",
    "<span style=\"color:orange\">x</span> is the input feature.\n",
    "\n",
    "<span style=\"color:fuchsia\">ŷ</span> is the prediction, or the estimated value of <span style=\"color:red\">y</span>.\n",
    "\n",
    "<span style=\"color:red\">y</span> is the target or \"true value\" taken from our training set."
   ]
  },
  {
   "attachments": {},
   "cell_type": "markdown",
   "metadata": {},
   "source": [
    "##### **`Linear Regression`**\n",
    "\n",
    "When we design a learning algorithm, a key question is: `\"How are we going to represent the function` <span style=\"color:aqua\">*f*</span> `?\"` or `\"What is the math formula we are going to use to compute` <span style=\"color:aqua\">*f*</span> `?\"`\n",
    "\n",
    "Assuming <span style=\"color:aqua\">*f*</span> is a straight line our function can be written as _**<span style=\"color:aqua\">f<sub>w,b</sub>(x) = wx + b</span>**_.\n",
    "\n",
    "If we plot our training set such that our input feature <span style=\"color:orange\">x</span> is on the horizontal axis and our output target <span style=\"color:red\">y</span> is on the vertical axis, our algorithm \"learns\" from this data and generates a best fit line, <span style=\"color:aqua\">*f*</span> (a straight line in this case).\n",
    "\n",
    "In this case our <span style=\"color:aqua\">function</span> is making predictions for the value of <span style=\"color:red\">y</span> using a straight line function of <span style=\"color:orange\">x</span>.\n",
    "\n",
    "This model is called `linear regression`.\n",
    "\n",
    "More specifically, a `linear model with one input` or `univariant linear regression` because we only have one input variable (size of the house).\n",
    "\n",
    "\\\n",
    "Why use a linear function instead of a <span style=\"color:purple\">non-linear function</span> like a curve or parabola?\n",
    "\n",
    "Linear functions are easier to work with. Therefore we will use a line as a foundation to understand more complex non-linear models."
   ]
  },
  {
   "attachments": {},
   "cell_type": "markdown",
   "metadata": {},
   "source": [
    "___\n",
    "#### **<span style=\"color:hotpink\">Cost Function</span>**"
   ]
  },
  {
   "attachments": {},
   "cell_type": "markdown",
   "metadata": {},
   "source": [
    "The cost function tells us how well our model is doing."
   ]
  },
  {
   "attachments": {},
   "cell_type": "markdown",
   "metadata": {},
   "source": [
    "<img src=\"images/cost_func_1.png\" alt=\"\" width=\"400\" height=\"\">"
   ]
  },
  {
   "attachments": {},
   "cell_type": "markdown",
   "metadata": {},
   "source": [
    "Recall:\n",
    "* Training set contains input features x and output targets y\n",
    "* The model we are using to fit the training set is a linear function f<sub>w,b</sub>(x) = wx + b.\n",
    "* x, and b are the parameters of the model (also called coefficients or weights); they can be adjusted during training to improve the model.\n",
    "\n",
    "\\\n",
    "Let's see what happens when we change our parameters..."
   ]
  },
  {
   "attachments": {},
   "cell_type": "markdown",
   "metadata": {},
   "source": [
    "<img src=\"images/cost_func_2.png\" alt=\"\" width=\"400\" height=\"\">"
   ]
  },
  {
   "attachments": {},
   "cell_type": "markdown",
   "metadata": {},
   "source": [
    "We want to choose values of w and b that so that the straight line we get from out function f fits the data well."
   ]
  },
  {
   "attachments": {},
   "cell_type": "markdown",
   "metadata": {},
   "source": [
    "<img src=\"images/cost_func_3.png\" alt=\"\" width=\"400\" height=\"\">"
   ]
  },
  {
   "attachments": {},
   "cell_type": "markdown",
   "metadata": {},
   "source": [
    "<span style=\"color:pink\">Let's break down the cost function...</span>\n",
    "\n",
    ">We want to measure how far off the prediction is from the target.\n",
    "\n",
    "\\\n",
    "<span style=\"color:pink\">The cost function takes the prediction <span style=\"color:fuchsia\">ŷ</span> and compares it to the target <span style=\"color:red\">y</span> by taking the difference betweent the two.</span>\n",
    "\n",
    "<span style=\"color:fuchsia\">ŷ</span> - <span style=\"color:red\">y</span>\n",
    "\n",
    "\\\n",
    "<span style=\"color:pink\">The difference or \"error\" is squared to get a positive number.</span>\n",
    "\n",
    "(<span style=\"color:fuchsia\">ŷ</span> - <span style=\"color:red\">y</span>)<sup>2</sup>\n",
    "\n",
    "\\\n",
    "<span style=\"color:pink\">We want to measure the error across the entire training set by summing the squared error's.</span>\n",
    "\n",
    "∑<sup><span style=\"color:purple\">m</span></sup><sub>i=1</sub>(<span style=\"color:fuchsia\">ŷ</span> - <span style=\"color:red\">y</span>)<sup>2</sup>\n",
    "\n",
    "\\\n",
    "<span style=\"color:pink\"><span style=\"color:purple\">m</span> is the total number of training examples (47 for this data set). As <span style=\"color:purple\">m</span> increases so will our cost function, since we are summing over more examples. To correct for this we will compute the average squared error rather than the total squared error. The average is computed by dividing the cost function by <span style=\"color:purple\">m</span>.</span>\n",
    "\n",
    "(1/<span style=\"color:purple\">m</span>) ∑<sup><span style=\"color:purple\">m</span></sup><sub>i=1</sub>(<span style=\"color:fuchsia\">ŷ</span> - <span style=\"color:red\">y</span>)<sup>2</sup>\n",
    "\n",
    "\\\n",
    "<span style=\"color:pink\">By convention we subtract this value by 2. This cleans up our calculations later down the line, but the cost function works the same either way.</span>\n",
    "\n",
    "`Cost Function`: J<sub>(<span style=\"color:aqua\">w,b</span>)</sub> = (1/2<span style=\"color:purple\">m</span>) ∑<sup><span style=\"color:purple\">m</span></sup><sub>i=1</sub>(<span style=\"color:fuchsia\">ŷ</span> - <span style=\"color:red\">y</span>)<sup>2</sup>\n",
    "\n",
    "\\\n",
    ">Note: The `Cost Function` is also called the `Squared Error Cost Function` because we are taking the square of the error terms. In machine learning different cost functions are used for different applications, but the `squared error cost function` is the most common for linear regression.\n",
    "\n",
    "\\\n",
    "<span style=\"color:pink\">The prediction <span style=\"color:fuchsia\">ŷ</span> is equal to the output of the model <span style=\"color:aqua\">*f*</span>(<span style=\"color:orange\">x</span>). Therefore, we can rewrite the function as follows:</span>\n",
    "\n",
    "`Cost Function`: J<sub>(<span style=\"color:aqua\">w,b</span>)</sub> = (1/2<span style=\"color:purple\">m</span>) ∑<sup><span style=\"color:purple\">m</span></sup><sub>i=1</sub>(J<sub>(<span style=\"color:aqua\">w,b</span>)</sub> - <span style=\"color:red\">y</span>)<sup>2</sup>\n",
    "\n",
    ">Note: Eventually, we will want to find values of w and b that make the cost function small."
   ]
  },
  {
   "attachments": {},
   "cell_type": "markdown",
   "metadata": {},
   "source": [
    "#### **<span style=\"color:hotpink\">What is the Cost Function doing?</span>**"
   ]
  },
  {
   "attachments": {},
   "cell_type": "markdown",
   "metadata": {},
   "source": [
    "<img src=\"images/cost_func_4.png\" alt=\"\" width=\"400\" height=\"\">"
   ]
  },
  {
   "attachments": {},
   "cell_type": "markdown",
   "metadata": {},
   "source": [
    "<span style=\"color:pink\">Standard Model Review</span>\n",
    "\n",
    "We want to use our model to fit a straight line to the training data.\n",
    "\n",
    "We can generate different lines depending on the chosen parameters (`w` & `b`)\n",
    "\n",
    "We use the cost function to test how well the model fits our training data.\n",
    "\n",
    "The cost function measures the difference between the models predictions `ŷ` or `f`<sub>`w,b`</sub>`(x)` and the actual \"true\" values for `y`.\n",
    "\n",
    "In other words, we want to minimize the cost function `J` by adjusting the parameters `w` and `b`."
   ]
  },
  {
   "attachments": {},
   "cell_type": "markdown",
   "metadata": {},
   "source": [
    "<span style=\"color:pink\">Simplified Model</span>\n",
    "\n",
    "Let's look at a simplified model by setting the parameter `b` equal to `0`.\n",
    "\n",
    "Now we only have one parameter, `w`.\n",
    "\n",
    "Now `f`<sub>`w`</sub>`(x`<sup>`(i)`</sup>`) = wx`<sup>`(i)`</sup> and `J` is a function of `w`.\n",
    "\n",
    "With this simplified model, our goal is to find a value for `w` that minimizes `J(w)`."
   ]
  },
  {
   "attachments": {},
   "cell_type": "markdown",
   "metadata": {},
   "source": [
    "Using this simplified model, let's see how the cost function changes as you choose different values of the parameter `w`...\n",
    "\n",
    "* If `w` is fixed, `f`<sub>`w`</sub>`(x)` is a function of the input `x`.\n",
    "\n",
    "* In contrast `J(w)` is a function of the parameter `w` which controls the slope of the line defined by `f(w)`. Therefore the cost function depends on the parameter `w`."
   ]
  },
  {
   "attachments": {},
   "cell_type": "markdown",
   "metadata": {},
   "source": [
    "<span style=\"color:pink\">`w=1` → `f`<sub>`w`</sub>`(x)=x` → `J(w)=0` (there is NO difference between predicted and \"real\" value)</span>\n",
    "\n",
    "<img src=\"images/cost_func_05.png\" alt=\"\" width=\"400\" height=\"\">"
   ]
  },
  {
   "attachments": {},
   "cell_type": "markdown",
   "metadata": {},
   "source": [
    "<span style=\"color:pink\">`w=0.5` → `f`<sub>`w`</sub>`(x)=0.5x` → `J(w)≃ 0.58` (there is a difference between predicted and \"real\" value)</span>\n",
    "\n",
    "<img src=\"images/cost_func_6.png\" alt=\"\" width=\"400\" height=\"\">"
   ]
  },
  {
   "attachments": {},
   "cell_type": "markdown",
   "metadata": {},
   "source": [
    "<span style=\"color:pink\">`w=0` → `f`<sub>`w`</sub>`(x)=0` → `J(w)≃2.3` (there is a difference between predicted and \"real\" value)</span>\n",
    "\n",
    "<img src=\"images/cost_func_7.png\" alt=\"\" width=\"400\" height=\"\">"
   ]
  },
  {
   "attachments": {},
   "cell_type": "markdown",
   "metadata": {},
   "source": [
    "We can continue calculating the cost function for different values of `w`...\n",
    "\n",
    "\\\n",
    "`w` can be any number including negative values. \n",
    "\n",
    "Negative values of `w` result in downward sloaping lines.\n",
    "\n",
    "If `w=-0.5` the line would slope downward and we would have a greater value of `J(w)≃5.25`.\n",
    "\n",
    "<img src=\"images/cost_func_8.jpeg\" alt=\"\" width=\"400\" height=\"\">\n",
    "\n",
    "Each value of `w` corresponds to a different straight line fit on the graph on the left.\n",
    "\n",
    "For each value of `w`, we can calculate a cost `J(w)`. This value corresponds to a single point on the graph on the right.\n",
    "\n",
    "By computing a range of `w` values we can trace out what the `J(w)` function looks like."
   ]
  },
  {
   "attachments": {},
   "cell_type": "markdown",
   "metadata": {},
   "source": [
    "<span style=\"color:pink\">How can we choose a value `w` that results in a function `f`<sub>`w`</sub>`(x)` that fits our training set \"well\"?</span>\n",
    "\n",
    "We want to choose a parameter `w` that minimizes the cost function `J(w)`.\n",
    "\n",
    ">Note: In the general case, we want to choose parameters `w` and `b` that would minimize `J(w,b)`."
   ]
  },
  {
   "attachments": {},
   "cell_type": "markdown",
   "metadata": {},
   "source": [
    "<span style=\"color:pink\">Let's look at the cost function using our original model...</span>\n",
    "\n",
    "<img src=\"images/cost_func_9.png\" alt=\"\" width=\"400\" height=\"\">\n",
    "\n"
   ]
  },
  {
   "attachments": {},
   "cell_type": "markdown",
   "metadata": {},
   "source": [
    "<img src=\"images/cost_func_10.png\" alt=\"\" width=\"400\" height=\"\">\n",
    "\n",
    "On the right is a training set of house sizes and prices.\n",
    "\n",
    "When we only had one parameter `w` the cost function was a `u-shaped` curve like the one on the right.\n",
    "\n",
    "\\\n",
    "Using two parameters `w` and `b`, the cost function becomes a little more complex...\n",
    "\n",
    "<img src=\"images/cost_func_12.png\" alt=\"3d surface plot\" width=\"400\" height=\"\">\n",
    "\n",
    "Any single point on this surface represents a particular choice for `w` and `b`.\n",
    " \n",
    "For example, if `w=-10` and `b=-15` then the height of the surface above this point is the value of `J(w=-10,b=-15)`."
   ]
  },
  {
   "attachments": {},
   "cell_type": "markdown",
   "metadata": {},
   "source": [
    "Another way to visualize this is by using a contour plot...\n",
    "\n",
    "<img src=\"images/cost_func_13.png\" alt=\"\" width=\"400\" height=\"\">\n",
    "\n",
    "At the bottom of this slide is a 3-d surface plot of the cost function `J(w,b)`.\n",
    "\n",
    "At the upper right is a contour plot of the exact same cost function, with `b` on the vertical axis and `w` on the horizontal axis. Each point on a particular elipse is the exact same height (same value of `J(w,b)` even though `b` and `w` are different).\n",
    "\n",
    "On the upper left you can see that these three points correspond to different functions `f`<sub>`w,b`</sub>`(x)`.\n",
    "\n",
    "The cost function is at a minimum at the center of the elipses."
   ]
  },
  {
   "attachments": {},
   "cell_type": "markdown",
   "metadata": {},
   "source": [
    "<span style=\"color:hotpink\">Let's look at some more visualizations of `w` and `b`...</span>"
   ]
  },
  {
   "attachments": {},
   "cell_type": "markdown",
   "metadata": {},
   "source": [
    "<img src=\"images/cost_func_15.png\" alt=\"\" width=\"400\" height=\"\">"
   ]
  },
  {
   "attachments": {},
   "cell_type": "markdown",
   "metadata": {},
   "source": [
    "<span style=\"color:hotpink\">Top Left:</span> This is a contour plot. The point indicated on the graph, where `w≃-15` and `b≃800` corresponds to one pair of values `w` and `b` that yeild a particular cost `J`. The cost is far from the center of the ellipse, indicating that our function `f(x)` is not a good fit.\n",
    "\n",
    "<span style=\"color:hotpink\">Top Right:</span> This plot shows our training set and a function corresponding to the parameters `w=-0.15` and `b=800`. Just looking at the plot, we can see that our function `f(x)=-0.15x+800` is not a good fit to the data. This is because many of the predictions `ŷ` are far from the actual target value of `y` that is in the training data."
   ]
  },
  {
   "attachments": {},
   "cell_type": "markdown",
   "metadata": {},
   "source": [
    "<img src=\"images/cost_func_16.png\" alt=\"\" width=\"400\" height=\"\">"
   ]
  },
  {
   "attachments": {},
   "cell_type": "markdown",
   "metadata": {},
   "source": [
    "Not a good fit, but slightly better...\n",
    "\n",
    "<span style=\"color:hotpink\">Top Left:</span> The point indicated on this contour plot represents the cost corresponding to the values `w≃0` and `b≃360`. \n",
    "\n",
    "<span style=\"color:hotpink\">Top Right:</span> This pair of parameters corespond to the function of `f(x)=360` which is a flat line."
   ]
  },
  {
   "attachments": {},
   "cell_type": "markdown",
   "metadata": {},
   "source": [
    "<img src=\"images/cost_func_17.png\" alt=\"\" width=\"400\" height=\"\">"
   ]
  },
  {
   "attachments": {},
   "cell_type": "markdown",
   "metadata": {},
   "source": [
    "Not a great fit to the data. Further away from the minimum than the previous example.\n",
    "\n",
    ">Recall: Minimum is at the center of smallest ellipse."
   ]
  },
  {
   "attachments": {},
   "cell_type": "markdown",
   "metadata": {},
   "source": [
    "<img src=\"images/cost_func_18.png\" alt=\"\" width=\"400\" height=\"\">"
   ]
  },
  {
   "attachments": {},
   "cell_type": "markdown",
   "metadata": {},
   "source": [
    "<span style=\"color:hotpink\">Top Left:</span> The function `f(x)` is a pretty good fit to training data. If you measure vertical distances between the data points and the predicted values on the straight line, the sum of their squared errors is close to the minimum.\n",
    "\n",
    "<span style=\"color:hotpink\">Top Right:</span> Close to center (minimum)."
   ]
  },
  {
   "attachments": {},
   "cell_type": "markdown",
   "metadata": {},
   "source": [
    "___\n",
    "#### **<span style=\"color:hotpink\">Gradient Descent</span>**\n",
    "\n",
    "<img src=\"images/gradient_descent_1.png\" alt=\"\" width=\"400\" height=\"\">"
   ]
  },
  {
   "attachments": {},
   "cell_type": "markdown",
   "metadata": {},
   "source": [
    "Provides a more systematic way of finding optimal values of `w` and `b` that minimize `J`.\n",
    "\n",
    "Gradient descent applies to more general functions, including other cost functions that work with models that have more than two parameters.\n",
    "\n",
    "For example, if you have a cost function such that J(w<sub>1</sub>, w<sub>2</sub>,...,w<sub>n</sub>,b). Your objective is then to mininimize `J` over the parameters `w`<sub>`1`</sub> to `w`<sub>`n`</sub> and `b`. In other words, you want to pick values for these parameters that gives you the smallest possible value of `J`.\n",
    "\n",
    "We start by making some initial guesses for `w` and `b`. In linear regression it doesn't matter what the initial values are so it is common to set them both equal to `0` for the initial guess.\n",
    "\n",
    "Next, we continue changing these values to reduce the cost function until we settle at or near a minimum.\n",
    "\n",
    ">Note: Not all cost functions `J` will have a bowl shape. In other words, it is possible to have more than one minimum."
   ]
  },
  {
   "attachments": {},
   "cell_type": "markdown",
   "metadata": {},
   "source": [
    "<span style=\"color:pink\">Let's look at a more complex surface plot...</span>"
   ]
  },
  {
   "attachments": {},
   "cell_type": "markdown",
   "metadata": {},
   "source": [
    "<img src=\"images/gradient_descent_2.png\" alt=\"\" width=\"400\" height=\"\">"
   ]
  },
  {
   "attachments": {},
   "cell_type": "markdown",
   "metadata": {},
   "source": [
    "This is not a squared error cost function.\n",
    "\n",
    "Linear regression with a squared error cost function always ends up with a bowl-shape or hammock-shape.\n",
    "\n",
    "This is the type of function you may get if you were training a nerual network model.\n",
    "\n",
    "On this plot we have `w` and `b` on the bottom axes.\n",
    "\n",
    "For different values of `w` and `b`, you get different points on the surface `J(w,b)`.\n",
    "\n",
    "The height of the surface at some point is the value of the cost function.\n",
    "\n",
    "From some initial starting point, we look around until we find the `direction of steepest descent`. You can imagine yourself standing on the top of a hill and you are looking for the quickest way down into one of the vallys.\n",
    "\n",
    "Once we determine the shortest path, we take a \"step\" in the direction of steepest descent and keep repeating this procedure until we reach some minimum value.\n",
    "\n",
    "What we did was to go through multiple steps of gradient descent until we reached a local minimum.\n",
    "\n",
    ">Note: If we repeated this process using a different starting point, we may end up at a different local minima."
   ]
  },
  {
   "attachments": {},
   "cell_type": "markdown",
   "metadata": {},
   "source": [
    "Next, let's look at the math behind gradient descent...\n",
    "\n",
    "<img src=\"images/gradient_descent_3.png\" alt=\"\" width=\"400\" height=\"\">"
   ]
  },
  {
   "attachments": {},
   "cell_type": "markdown",
   "metadata": {},
   "source": [
    "<span style=\"color:pink\">Let's break down the first equation...</span>\n",
    "\n",
    "`w=w-α(∂/∂w)J(w,b)`\n",
    "\n",
    "This equation is saying: `w` is updated to the old value of `w` minus `α` multiplied by the partial derivative of `J(w,b)` with respect to `w`.\n",
    "\n",
    "The `=` symbol is the assignment operator (*see chart below*).\n",
    "\n",
    "`α` is the learning rate. It is usually a small positive value between 0 and 1 (e.g. 0.01). Controls how big of a step we will take \"down hill\". A large value of `α` corresponds to an aggressive gradient descent procedure where you are taking huge steps \"down hill\" and the opposite is true for small values of `α`.\n",
    "\n",
    "`(∂/∂w)J(w,b)` is the derivative term for the cost funcion `J`. Controls the direction in which we want to \"step\". In combination with our learning rate `α`, it also controls the size of the steps we want to take\n",
    "\n",
    "\\\n",
    "<span style=\"color:pink\">Now let's look at the second equation</span>\n",
    "\n",
    "The second equation `b=b-α(∂/∂b)J(w,b)` is saying: `b` is updated to the old value of `b` minus `α` multiplied by the partial derivative of `J(w,b)` with respect to `b`.\n",
    "\n",
    "\\\n",
    "<span style=\"color:pink\">Implementing gradient descent</span>\n",
    "\n",
    "In gradient descent the updated parameters `w` and `b` will be simultaneously updated until the algorithm \"converges\", meaning that it reaches the point at a local minimun where the parameters no longer change much with each additional step you take.\n",
    "\n",
    "To correctly implement gradient descent, we want to simultaneously update `w` and `b`.\n",
    "\n",
    "This means that we want to use the pre-updated values of `w` and `b` to calculate `temp_w` and `temp_b` before updating our parameters.\n",
    "\n",
    "An incorrect way to do it would be to calculate `temp_w` and then update `w` before calculating `temp_b`. In that scenario we would be using the old value of `w` to update `w` and the new updated version of `w` to calculate `b`.\n",
    "\n",
    ">Note: If we did use the incorrect method to implement gradient descent, our model would still probably work; but it is incorrect.\n",
    "\n",
    "\\\n",
    "<span style=\"color:pink\">Assignment Operator vs Truth Assertion</span>\n",
    "\n",
    "||Assignment Operator|Truth Assertion|\n",
    "|:--:|:--:|:--:|\n",
    "|Definition|Assigns a value to a variable|Asserts the truth of the equality of two values|\n",
    "|Used in|Coding|Mathematics and Coding|\n",
    "|Symbol|`=`|`=` (math); `==` (coding)|\n",
    "|a=c|Takes the value `c` and stores it in your computer inside of the variable `a`|\"Asserts\" or claims that the values for `a` and `c` are equal|\n",
    "|a=a+1|Increments the value of `a` by one|This statement is mathmatically incorrect|\n",
    "|a==c|N/A|Tests to see if `a` is equal to `c`|\n",
    "\n",
    ">In math notation we can use `=` to indicate either an assignment operator or a truth assertion, so we will try to indicate which is which in the notes. In the slide above we are using `=` to represent the assignment operator."
   ]
  },
  {
   "attachments": {},
   "cell_type": "markdown",
   "metadata": {},
   "source": [
    "Let's dive more deeply into gradient descent to get better intuition...\n",
    "\n",
    "<img src=\"images/gradient_descent_4.png\" alt=\"\" width=\"400\" height=\"\">"
   ]
  },
  {
   "attachments": {},
   "cell_type": "markdown",
   "metadata": {},
   "source": [
    "Recall from the previous slide that `α` is the learning rate. The learning rate controls how big of a step you take when updating the model's parameters, `w` and `b`.\n",
    "\n",
    "The derivative term controls the direction of the \"step\" we are going to take.\n",
    "\n",
    "\\\n",
    "What is the effect of these terms when updating `w` and `b`?\n",
    "\n",
    "\\\n",
    "Let's use a simpler example, minimizing one parameter `w` to get a better understanding of how the learning rate and the derivative term work together.\n",
    "\n",
    "Using the simplified equation `w=w-α(∂/∂w)J(w)` our goal is to minimize the cost `J(w)` by adjusting the parameter `w`.\n",
    "\n",
    "This is similar to a previous example, where we temporarily set the parameter `b=0`.\n",
    "\n",
    "Looking at one parameter instead of two, we can visualize gradient descent using a 2-D graph..."
   ]
  },
  {
   "attachments": {},
   "cell_type": "markdown",
   "metadata": {},
   "source": [
    "<img src=\"images/gradient_descent_5.png\" alt=\"\" width=\"400\" height=\"\">"
   ]
  },
  {
   "attachments": {},
   "cell_type": "markdown",
   "metadata": {},
   "source": [
    "Let's initialize gradient descent for some starting value for `w`...\n",
    "\n",
    ">Note: A derivative is the slope of the tangent line.\n",
    "\n",
    ">Note: The learning rate `α` is always a positive number.\n",
    "\n",
    "<span style=\"color:pink\">Upper Left:</span> The derivative term is a positive number; Therefore, `w` will decrease.\n",
    "\n",
    "<span style=\"color:pink\">Upper Left:</span> The derivative term is a negative number; Therefore, `w` will increase."
   ]
  },
  {
   "attachments": {},
   "cell_type": "markdown",
   "metadata": {},
   "source": [
    "<span style=\"color:pink\">How to choose an appropriate value for the learning rate?</span>\n",
    "\n",
    "The choice of the learning rate, alpha will have a huge impact on the efficiency of your implementation of gradient descent.\n",
    "\n",
    "If alpha, the learning rate is chosen poorly rate of descent may not even work at all. "
   ]
  },
  {
   "attachments": {},
   "cell_type": "markdown",
   "metadata": {},
   "source": [
    "<img src=\"images/gradient_descent_6.png\" alt=\"\" width=\"400\" height=\"\">"
   ]
  },
  {
   "attachments": {},
   "cell_type": "markdown",
   "metadata": {},
   "source": [
    "<span style=\"color:pink\">What happens if you initilize gradient descent at a local minimum?</span>\n",
    "\n",
    "<img src=\"images/gradient_descent_7.png\" alt=\"\" width=\"400\" height=\"\">\n",
    "\n",
    "If you are already at a local minimum, gradient descent leaves `w` unchanged."
   ]
  },
  {
   "attachments": {},
   "cell_type": "markdown",
   "metadata": {},
   "source": [
    "<span style=\"color:pink\">Step size decreases as we approach the mininum</span>\n",
    "\n",
    "<img src=\"images/gradient_descent_8.png\" alt=\"\" width=\"400\" height=\"\">\n",
    "\n",
    "In cases where we do not initlize gradient descent at a local minimum, the steps naturally get smaller as they approach some local minimum.\n",
    "\n",
    "This is because the slope of the tangent line approaches zero (it is not as steep) with each subsequent step; in other words, as we approach the minimum the derivative gets closer and closer to zero."
   ]
  },
  {
   "attachments": {},
   "cell_type": "markdown",
   "metadata": {},
   "source": [
    "#### <span style=\"color:hotpink\">Putting it all together...</span>"
   ]
  },
  {
   "attachments": {},
   "cell_type": "markdown",
   "metadata": {},
   "source": [
    "<img src=\"images/gradient_descent_9.png\" alt=\"\" width=\"400\" height=\"\">"
   ]
  },
  {
   "attachments": {},
   "cell_type": "markdown",
   "metadata": {},
   "source": [
    "<img src=\"images/gradient_descent_10.png\" alt=\"\" width=\"400\" height=\"\">"
   ]
  },
  {
   "attachments": {},
   "cell_type": "markdown",
   "metadata": {},
   "source": [
    "<img src=\"images/gradient_descent_11.png\" alt=\"\" width=\"400\" height=\"\">"
   ]
  },
  {
   "attachments": {},
   "cell_type": "markdown",
   "metadata": {},
   "source": [
    "<img src=\"images/gradient_descent_12.png\" alt=\"surface plot with more than one local minimum\" width=\"400\" height=\"\">"
   ]
  },
  {
   "attachments": {},
   "cell_type": "markdown",
   "metadata": {},
   "source": [
    "Gradient descent can lead to a local minimum rather than a global minimum.\n",
    "\n",
    "The global minimum is the point that has the lowest possible value for the cost function `J`.\n",
    "\n",
    "The surface plot above has more than one local minimum.\n",
    "\n",
    "Depending on where you initilaize the parameters, you can end up at a different local minimum."
   ]
  },
  {
   "attachments": {},
   "cell_type": "markdown",
   "metadata": {},
   "source": [
    "<img src=\"images/gradient_descent_13.png\" alt=\"\" width=\"400\" height=\"\">"
   ]
  },
  {
   "attachments": {},
   "cell_type": "markdown",
   "metadata": {},
   "source": [
    "When using a squared error cost function with linear regression, the cost function will never have multiple local minima.\n",
    "\n",
    "It has a single global minimum because it is a convex or bowl-shaped function.\n",
    "\n",
    "One nice property of convex functions is that as long as you choose an appropriate learning rate, gradient descent will always converge to the global minimum."
   ]
  },
  {
   "cell_type": "code",
   "execution_count": null,
   "metadata": {},
   "outputs": [],
   "source": []
  }
 ],
 "metadata": {
  "kernelspec": {
   "display_name": "Python 3.9.7 64-bit",
   "language": "python",
   "name": "python3"
  },
  "language_info": {
   "name": "python",
   "version": "3.9.7 (v3.9.7:1016ef3790, Aug 30 2021, 16:39:15) \n[Clang 6.0 (clang-600.0.57)]"
  },
  "orig_nbformat": 4,
  "vscode": {
   "interpreter": {
    "hash": "aee8b7b246df8f9039afb4144a1f6fd8d2ca17a180786b69acc140d282b71a49"
   }
  }
 },
 "nbformat": 4,
 "nbformat_minor": 2
}
