{
 "cells": [
  {
   "cell_type": "markdown",
   "metadata": {},
   "source": [
    "### <mark >Supervised Machine Learning: Regression and Classification</mark>"
   ]
  },
  {
   "attachments": {},
   "cell_type": "markdown",
   "metadata": {},
   "source": [
    "#### **<span style=\"color:hotpink\">Week 1: Introduction to Machine Learning</span>**\n",
    "\n",
    "\\\n",
    "**<span style=\"color:pink\">What is Machine Learning?</span>**\n",
    "\n",
    "\"Field of study that gives computers the ability to learn without being explicitly programmed.\" -- Arthur Samuel (1959)\n",
    "\n",
    "\\\n",
    "**<span style=\"color:pink\">Machine Learning Algorithms</span>**\n",
    "\n",
    "* Supervised Learning -- used most in real-world applications (coverd in course 1 & 2)\n",
    "* Unsupervised Learning\n",
    "* Recommender Systems\n",
    "* Reinforcement Learning\n",
    "\n",
    ">Note: Unsupervised learning, recommender systems and reinforcement learning will be covered in course 3."
   ]
  },
  {
   "attachments": {},
   "cell_type": "markdown",
   "metadata": {},
   "source": [
    "___\n",
    "#### **<span style=\"color:hotpink\">Supervised Learning</span>**\n",
    "\n",
    "Machine learning algorithms that learn `x` to `y` or `input` to `output` label mappings.\n",
    "\n",
    "The key characteristic of supervised learning is that you give your learning algorithm examples to learn from that include the \"right answers\" (correct `y-label` for a given input `x`).\n",
    "\n",
    "The learning algorithm learns to take just the input alone and gives a reasonably accurate prediction.\n",
    "\n",
    "\\\n",
    "<span style=\"color:pink\">Some applications of supervised machine learning include...</span>\n",
    "\n",
    "|Input (X)|Output (Y)|Application|\n",
    "|:---:|:---:|:---:|\n",
    "|email|spam? (0/1)|spam filtering|\n",
    "|audio|text transcripts|speech recognition|\n",
    "|English|Spanish|machine translation|\n",
    "|ad, user info|click? (0/1)|online advertising|\n",
    "|image, radar info|position of other cars|self-driving car|\n",
    "|image of phone|defect? (0/1)|visual inspection|"
   ]
  },
  {
   "cell_type": "markdown",
   "metadata": {},
   "source": [
    ">Note: In each of the above applications, you would first train your models with examples of inputs (`x`) and the right answers (`y-label's`). After the model has learned from these `x` and `y` pairs, it can take a brand new input `x` and try to produce the appropriate corresponding output `y`."
   ]
  },
  {
   "attachments": {},
   "cell_type": "markdown",
   "metadata": {},
   "source": [
    "___\n",
    "#### **<span style=\"color:hotpink\">There are two main types of supervised learning:</span>**\n",
    "* **Regression** - *used to predict a number* from infinantly many possible outputs\n",
    "* **Classification** - used to predict a small number of outputs or categories"
   ]
  },
  {
   "attachments": {},
   "cell_type": "markdown",
   "metadata": {},
   "source": [
    "___\n",
    "#### **<span style=\"color:hotpink\">Regression Example: Predicting Housing Prices</span>**\n",
    "\n",
    "<span style=\"color:pink\">Say you want to predict housing prices based on the size of the house.</span>\n",
    "\n",
    "You have collected and plotted your data...\n",
    "\n",
    "<img src=\"images/regression_1.png\" alt=\"\" height=\"\" width=\"400\">"
   ]
  },
  {
   "attachments": {},
   "cell_type": "markdown",
   "metadata": {},
   "source": [
    "<span style=\"color:pink\">Fitting the data with a line, curve or other function, we can interpolate a price for a house of a given size.</span>\n",
    "\n",
    "How much can we sell a 750 thousand square foot house for, using either a line or curve to interpolate?\n",
    "\n",
    "<img src=\"images/regression_2.png\" alt=\"\" width=\"400\" height=\"\">\n",
    "\n",
    "From the diagram above, a straight line will predict a selling price near $150,000, where a curved line will predict a price closer to $200,000."
   ]
  },
  {
   "attachments": {},
   "cell_type": "markdown",
   "metadata": {},
   "source": [
    ">Note: Getting an algorithm to systematically choose the most appropriate line or curve or other thing to fit to this data is an example of regression."
   ]
  },
  {
   "attachments": {},
   "cell_type": "markdown",
   "metadata": {},
   "source": [
    "___\n",
    "#### **<span style=\"color:hotpink\">Classification Example: Breast cancer detection</span>**\n",
    "\n",
    "<span style=\"color:pink\">Say you are building a system so that doctors can have a diagnostic tool to detect breast cancer.</span>\n",
    "\n",
    "This is important because early detection can save lives .\n",
    "\n",
    "Using a patients records machine learning tries to figure out if a tumor is malignant or benign.\n",
    "\n",
    "\\\n",
    "<span style=\"color:pink\">Let's say your data set has tumors of various sizes and these tumors are labled as benign (0) or malignant (1).</span>\n",
    "\n",
    "We can plot the data such that the horizontal axis represents the size of the tumor and the vertical axis takes on only two values 0 or 1, depending on wether the tumor is benign or malignant.\n",
    "\n",
    "<img src=\"images/classification_1.png\" alt=\"\" width=\"400\" height=\"\">"
   ]
  },
  {
   "attachments": {},
   "cell_type": "markdown",
   "metadata": {},
   "source": [
    "<span style=\"color:pink\">One way that this example differs from regression is that we are only trying to predict a small number of possible outputs or categories.</span>\n",
    "\n",
    "In this case there are two possible outputs 0 or 1, benign or malignant. \n",
    "\n",
    "This is different from regression which tries to predict any number, out of an infinitely number of possible numbers. \n",
    "\n",
    "\\\n",
    "<span style=\"color:pink\">You can also plot this data set on a line, using two different symbols to denote the category (`o` for benign and `x` for malignant).</span>\n",
    "\n",
    "<img src=\"images/classification_02.jpg\" alt=\"\" height=\"\" width=\"300\">\n",
    "\n",
    "\\\n",
    "If a new patient walks in for a diagnosis and they have a lump of a given size, will your system classify this as benign or malignant?"
   ]
  },
  {
   "attachments": {},
   "cell_type": "markdown",
   "metadata": {},
   "source": [
    "<span style=\"color:pink\">In classification problems, we can have more than two possible output categories.</span>\n",
    "\n",
    "Maybe your learning algorithm can output multiple types of cancer diagnoses if it turns out to be malignant.\n",
    "\n",
    "\\\n",
    "Let's call the two types of cancer `type 1` and `type 2`.\n",
    "\n",
    "Now our learning algorithm will have three possible output categories it could predict...\n",
    "\n",
    "<img src=\"images/classification_4.jpg\" alt=\"\" height=\"\" width=\"300\">\n",
    "\n",
    "Note: In classification, the terms output classes and categories are used interchangably."
   ]
  },
  {
   "attachments": {},
   "cell_type": "markdown",
   "metadata": {},
   "source": [
    "<span style=\"color:pink\">Classification algorithms predict categories, which can be non-numerical.</span>\n",
    "\n",
    "For example, we can predict if a picture is that of a cat or a dog, or if a tumor is benign or malignant. \n",
    "\n",
    "\\\n",
    "<span style=\"color:pink\">Categories can also be numbers.</span>\n",
    "\n",
    "For example, our example predicts 0, 1, 2 but not all possible numbers inbetween, such as 0.5, or 1.7.\n",
    "\n",
    "\\\n",
    "<span style=\"color:pink\">We can use multiple inputs to predict an output.</span>\n",
    "\n",
    "For example, let's say we know both the tumor size and the patients age in years ... our new dataset now has two inputs.\n",
    "\n",
    "We can plot benign tumors as `o`'s and malignant tumors as `x`'s...\n",
    "\n",
    "\\\n",
    "<span style=\"color:pink\">Given a patients tumor size and age, how can we predict whether the tumor is benign or malignant?</span>\n",
    "\n",
    "<img src=\"images/classification_5.jpg\" alt=\"\" height=\"\" width=\"300\">\n",
    "\n",
    "\\\n",
    "<span style=\"color:pink\">A machine learning algorithm could find some boundary that separates out the malignant tumors from the benign ones...</span>\n",
    "\n",
    "<img src=\"images/classification_6.jpg\" alt=\"\" height=\"\" width=\"300\">\n",
    "\n",
    "\\\n",
    "So the machine learning algorith needs to decide how to fit a boundary line to this data.\n",
    "\n",
    "This can help the doctor determine the likelyhood that a tumor will be benign or malignant.\n",
    "\n",
    ">Note: In actual practice, many additional inputs would be used (thickness of tumor clump, uniformity of the cell shape, etc.)"
   ]
  },
  {
   "attachments": {},
   "cell_type": "markdown",
   "metadata": {},
   "source": [
    "___\n",
    "#### **<span style=\"color:hotpink\">Summary</span>**\n",
    "\n",
    "<img src=\"images/supervised_learning_1.jpg\" alt=\"\" height=\"\" width=\"300\">\n",
    "\n",
    "___"
   ]
  },
  {
   "cell_type": "markdown",
   "metadata": {},
   "source": []
  }
 ],
 "metadata": {
  "kernelspec": {
   "display_name": "Python 3.9.7 64-bit",
   "language": "python",
   "name": "python3"
  },
  "language_info": {
   "name": "python",
   "version": "3.9.7 (v3.9.7:1016ef3790, Aug 30 2021, 16:39:15) \n[Clang 6.0 (clang-600.0.57)]"
  },
  "orig_nbformat": 4,
  "vscode": {
   "interpreter": {
    "hash": "aee8b7b246df8f9039afb4144a1f6fd8d2ca17a180786b69acc140d282b71a49"
   }
  }
 },
 "nbformat": 4,
 "nbformat_minor": 2
}
